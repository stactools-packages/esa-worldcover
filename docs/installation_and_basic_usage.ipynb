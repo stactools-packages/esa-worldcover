{
 "cells": [
  {
   "cell_type": "markdown",
   "metadata": {},
   "source": [
    "# Tutorial: Working with this stactools subpackage\n",
    "\n",
    "Stactools ([docs](https://stactools.readthedocs.io/en/latest/), [source](https://github.com/stac-utils/stactools)) is a command line tool and library for working with [STAC](https://stacspec.org/), based on [PySTAC](https://github.com/stac-utils/pystac).\n",
    "\n",
    "[Stactools dataset packages](https://github.com/stactools-packages) are add-ons for stactools that provide STAC functionality for specific datasets, such as [Sentinel 2](https://github.com/stactools-packages/sentinel2) and [Landsat](https://github.com/stactools-packages/landsat).\n",
    "\n",
    "Stactools and its dataset packages can be accessed from the CLI or from within normal Python code. This notebook provides examples of both."
   ]
  },
  {
   "cell_type": "markdown",
   "metadata": {},
   "source": [
    "## 1. Using this notebook\n",
    "\n",
    "The easiest way to use this notebook is to run it through `scripts/notebook`. This will create a Docker container already set up with the prerequisites and open the stactools dataset folder. Navigate to `docs/` to find this notebook.\n",
    "\n",
    "If you wish to use this notebook outside of the container (such as on mybinder.org) then please install the prerequisites using:"
   ]
  },
  {
   "cell_type": "code",
   "execution_count": null,
   "metadata": {},
   "outputs": [],
   "source": [
    "!pip install stactools-esa-worldcover"
   ]
  },
  {
   "cell_type": "markdown",
   "metadata": {},
   "source": [
    "## 2. Using the stactools dataset package from the CLI"
   ]
  },
  {
   "cell_type": "markdown",
   "metadata": {},
   "source": [
    "The first thing we can do is check that the `stac` CLI tool is installed and explore the options. Notice the inclusion of the command for this dataset package in stactools now."
   ]
  },
  {
   "cell_type": "code",
   "execution_count": null,
   "metadata": {},
   "outputs": [],
   "source": [
    "!stac"
   ]
  },
  {
   "cell_type": "markdown",
   "metadata": {},
   "source": [
    "You can now explore the STAC dataset package commands to ingest and describe the data"
   ]
  },
  {
   "cell_type": "code",
   "execution_count": null,
   "metadata": {},
   "outputs": [],
   "source": [
    "!stac esaworldcover --help"
   ]
  },
  {
   "cell_type": "markdown",
   "metadata": {},
   "source": [
    "And more specific help with an individual command."
   ]
  },
  {
   "cell_type": "code",
   "execution_count": null,
   "metadata": {},
   "outputs": [],
   "source": [
    "!stac esaworldcover create-item --help"
   ]
  },
  {
   "cell_type": "markdown",
   "metadata": {},
   "source": [
    "## 3. Using the stactools dataset package from within Python code"
   ]
  },
  {
   "cell_type": "markdown",
   "metadata": {},
   "source": [
    "So far we've used Jupyter Notebooks' IPython [line magic](https://ipython.readthedocs.io/en/stable/interactive/magics.html) to work with stactools packages on the command line, but it's also possible to use them within Python scripts."
   ]
  },
  {
   "cell_type": "code",
   "execution_count": 1,
   "metadata": {},
   "outputs": [
    {
     "name": "stdout",
     "output_type": "stream",
     "text": [
      "{\n",
      "    \"type\": \"Feature\",\n",
      "    \"stac_version\": \"1.0.0\",\n",
      "    \"id\": \"esa_worldcover_10m_2020_v100_n66e177\",\n",
      "    \"properties\": {\n",
      "        \"description\": \"ESA WorldCover product at 10m resolution for year 2020\",\n",
      "        \"created\": \"2022-04-06T09:40:56.123137Z\",\n",
      "        \"mission\": \"Sentinel-1, Sentinel-2\",\n",
      "        \"platform\": \"Sentinel-1A, Sentinel-1B, Sentinel-2A, Sentinel-2B\",\n",
      "        \"instruments\": [\n",
      "            \"C-SAR\",\n",
      "            \"MSI\"\n",
      "        ],\n",
      "        \"start_datetime\": \"2020-01-01T00:00:00Z\",\n",
      "        \"end_datetime\": \"2020-12-31T23:59:59Z\",\n",
      "        \"esa_worldcover:product_tile\": \"N66E177\",\n",
      "        \"proj:epsg\": 4326,\n",
      "        \"datetime\": \"2020-01-01T00:00:00Z\"\n",
      "    },\n",
      "    \"geometry\": {\n",
      "        \"type\": \"Polygon\",\n",
      "        \"coordinates\": [\n",
      "            [\n",
      "                [\n",
      "                    180.0,\n",
      "                    66.0\n",
      "                ],\n",
      "                [\n",
      "                    180.0,\n",
      "                    69.0\n",
      "                ],\n",
      "                [\n",
      "                    177.0,\n",
      "                    69.0\n",
      "                ],\n",
      "                [\n",
      "                    177.0,\n",
      "                    66.0\n",
      "                ],\n",
      "                [\n",
      "                    180.0,\n",
      "                    66.0\n",
      "                ]\n",
      "            ]\n",
      "        ]\n",
      "    },\n",
      "    \"links\": [],\n",
      "    \"assets\": {\n",
      "        \"map\": {\n",
      "            \"href\": \"/Users/pjh/dev/esa-worldcover/tests/data-files/ESA_WorldCover_10m_2020_v100_N66E177_Map/ESA_WorldCover_10m_2020_v100_N66E177_Map.tif\",\n",
      "            \"type\": \"image/tiff; application=geotiff; profile=cloud-optimized\",\n",
      "            \"title\": \"Land Cover Classes\",\n",
      "            \"description\": \"Discrete classification according to the Land Cover Classification System scheme developed by the United Nations Food and Agriculture Organization\",\n",
      "            \"created\": \"2021-10-12T16:51:26.705020Z\",\n",
      "            \"proj:transform\": [\n",
      "                0.0029296875,\n",
      "                0.0,\n",
      "                177.0,\n",
      "                0.0,\n",
      "                -0.0029296875,\n",
      "                69.0\n",
      "            ],\n",
      "            \"proj:shape\": [\n",
      "                1024,\n",
      "                1024\n",
      "            ],\n",
      "            \"raster:bands\": [\n",
      "                {\n",
      "                    \"nodata\": 0,\n",
      "                    \"sampling\": \"area\",\n",
      "                    \"data_type\": \"uint16\",\n",
      "                    \"spatial_resolution\": 10\n",
      "                }\n",
      "            ],\n",
      "            \"classification:classes\": [\n",
      "                {\n",
      "                    \"value\": 10,\n",
      "                    \"description\": \"Tree cover\",\n",
      "                    \"color-hint\": \"006400\"\n",
      "                },\n",
      "                {\n",
      "                    \"value\": 20,\n",
      "                    \"description\": \"Shrubland\",\n",
      "                    \"color-hint\": \"FFBB22\"\n",
      "                },\n",
      "                {\n",
      "                    \"value\": 30,\n",
      "                    \"description\": \"Grassland\",\n",
      "                    \"color-hint\": \"FFFF4C\"\n",
      "                },\n",
      "                {\n",
      "                    \"value\": 40,\n",
      "                    \"description\": \"Cropland\",\n",
      "                    \"color-hint\": \"F096FF\"\n",
      "                },\n",
      "                {\n",
      "                    \"value\": 50,\n",
      "                    \"description\": \"Built-up\",\n",
      "                    \"color-hint\": \"FA0000\"\n",
      "                },\n",
      "                {\n",
      "                    \"value\": 60,\n",
      "                    \"description\": \"Bare / sparse vegetation\",\n",
      "                    \"color-hint\": \"B4B4B4\"\n",
      "                },\n",
      "                {\n",
      "                    \"value\": 70,\n",
      "                    \"description\": \"Snow and ice\",\n",
      "                    \"color-hint\": \"F0F0F0\"\n",
      "                },\n",
      "                {\n",
      "                    \"value\": 80,\n",
      "                    \"description\": \"Permanent water bodies\",\n",
      "                    \"color-hint\": \"0064C8\"\n",
      "                },\n",
      "                {\n",
      "                    \"value\": 90,\n",
      "                    \"description\": \"Herbaceous wetland\",\n",
      "                    \"color-hint\": \"0096A0\"\n",
      "                },\n",
      "                {\n",
      "                    \"value\": 95,\n",
      "                    \"description\": \"Mangroves\",\n",
      "                    \"color-hint\": \"00CF75\"\n",
      "                },\n",
      "                {\n",
      "                    \"value\": 100,\n",
      "                    \"description\": \"Moss and lichen\",\n",
      "                    \"color-hint\": \"FAE6A0\"\n",
      "                }\n",
      "            ],\n",
      "            \"roles\": [\n",
      "                \"data\"\n",
      "            ]\n",
      "        },\n",
      "        \"input_quality\": {\n",
      "            \"href\": \"/Users/pjh/dev/esa-worldcover/tests/data-files/ESA_WorldCover_10m_2020_v100_N66E177_Map/ESA_WorldCover_10m_2020_v100_N66E177_InputQuality.tif\",\n",
      "            \"type\": \"image/tiff; application=geotiff; profile=cloud-optimized\",\n",
      "            \"title\": \"Classification Input Data Quality\",\n",
      "            \"description\": \"Per pixel quality indicator showing the quality of the electro-optical input data. Band 1 contains the number of Sentinel-1 GAMMA0 observations used in the classification workflow. Band 2 contains the number of Sentinel-2 L2A observations used in the classification workflow. Band 3 contains the percentage (0-100) of invalid S2 observations discarded in the classification workflow (after cloud and cloud shadow filtering).\",\n",
      "            \"created\": \"2021-10-14T21:13:32.209529Z\",\n",
      "            \"proj:transform\": [\n",
      "                0.005859375,\n",
      "                0.0,\n",
      "                177.0,\n",
      "                0.0,\n",
      "                -0.005859375,\n",
      "                69.0\n",
      "            ],\n",
      "            \"proj:shape\": [\n",
      "                512,\n",
      "                512\n",
      "            ],\n",
      "            \"raster:bands\": [\n",
      "                {\n",
      "                    \"nodata\": -1,\n",
      "                    \"sampling\": \"area\",\n",
      "                    \"data_type\": \"int16\",\n",
      "                    \"spatial_resolution\": 60\n",
      "                },\n",
      "                {\n",
      "                    \"nodata\": -1,\n",
      "                    \"sampling\": \"area\",\n",
      "                    \"data_type\": \"int16\",\n",
      "                    \"spatial_resolution\": 60\n",
      "                },\n",
      "                {\n",
      "                    \"nodata\": -1,\n",
      "                    \"sampling\": \"area\",\n",
      "                    \"data_type\": \"int16\",\n",
      "                    \"spatial_resolution\": 60\n",
      "                }\n",
      "            ],\n",
      "            \"roles\": [\n",
      "                \"metadata\"\n",
      "            ]\n",
      "        }\n",
      "    },\n",
      "    \"bbox\": [\n",
      "        177.0,\n",
      "        66.0,\n",
      "        180.0,\n",
      "        69.0\n",
      "    ],\n",
      "    \"stac_extensions\": [\n",
      "        \"https://stac-extensions.github.io/projection/v1.0.0/schema.json\",\n",
      "        \"https://stac-extensions.github.io/raster/v1.0.0/schema.json\",\n",
      "        \"https://stac-extensions.github.io/classification/v1.0.0/schema.json\"\n",
      "    ]\n",
      "}\n"
     ]
    }
   ],
   "source": [
    "import json\n",
    "\n",
    "from stactools.esa_worldcover import stac\n",
    "\n",
    "map_href = \"../tests/data-files/ESA_WorldCover_10m_2020_v100_N66E177_Map/ESA_WorldCover_10m_2020_v100_N66E177_Map.tif\"\n",
    "item = stac.create_item(map_href)\n",
    "\n",
    "print(json.dumps(item.to_dict(), indent=4))"
   ]
  },
  {
   "cell_type": "code",
   "execution_count": null,
   "metadata": {},
   "outputs": [],
   "source": []
  }
 ],
 "metadata": {
  "interpreter": {
   "hash": "c2bee1ab741e827a7e677add16aa73fb04c1c623305731aa61866545d78e2921"
  },
  "kernelspec": {
   "display_name": "Python 3.9.5 64-bit ('stactools-spot': conda)",
   "name": "python3"
  },
  "language_info": {
   "codemirror_mode": {
    "name": "ipython",
    "version": 3
   },
   "file_extension": ".py",
   "mimetype": "text/x-python",
   "name": "python",
   "nbconvert_exporter": "python",
   "pygments_lexer": "ipython3",
   "version": "3.10.4"
  }
 },
 "nbformat": 4,
 "nbformat_minor": 5
}
